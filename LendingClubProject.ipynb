{
 "cells": [
  {
   "cell_type": "code",
   "execution_count": 21,
   "metadata": {
    "collapsed": true
   },
   "outputs": [],
   "source": [
    "#data handling/prediction\n",
    "import pandas as pd\n",
    "import numpy as np\n",
    "from sklearn.tree import DecisionTreeRegressor\n",
    "from sklearn.ensemble import BaggingRegressor, RandomForestRegressor\n",
    "from sklearn.linear_model import LinearRegression\n",
    "from sklearn.cross_validation import train_test_split\n",
    "from sklearn.metrics import mean_squared_error, accuracy_score\n",
    "from sklearn.externals.six import StringIO\n",
    "\n",
    "from sklearn.cross_validation import KFold, train_test_split, cross_val_score\n",
    "from sklearn.linear_model import LogisticRegression\n",
    "from sklearn.ensemble import RandomForestClassifier\n",
    "from sklearn.preprocessing import LabelEncoder, StandardScaler, PolynomialFeatures\n",
    "from sklearn import metrics\n",
    "import scipy.stats as stats\n",
    "\n",
    "#visualization\n",
    "%matplotlib inline\n",
    "import seaborn as sns\n",
    "import matplotlib.pyplot as plt\n",
    "from IPython.display import Image\n",
    "import pydot\n",
    "from sklearn.tree import export_graphviz"
   ]
  },
  {
   "cell_type": "code",
   "execution_count": 63,
   "metadata": {
    "collapsed": false
   },
   "outputs": [],
   "source": [
    "# Pull data in\n",
    "loanData1 = pd.read_csv(\"/Users/ganderson/Dropbox/Developer/nyc16_ids1/data/lendingClub/LoanStats3a.csv\")\n",
    "loanData2 = pd.read_csv(\"/Users/ganderson/Dropbox/Developer/nyc16_ids1/data/lendingClub/LoanStats3b.csv\")\n",
    "loanData3 = pd.read_csv(\"/Users/ganderson/Dropbox/Developer/nyc16_ids1/data/lendingClub/LoanStats3c.csv\")\n",
    "loanData4 = pd.read_csv(\"/Users/ganderson/Dropbox/Developer/nyc16_ids1/data/lendingClub/LoanStats3d.csv\")\n",
    "loanData5 = pd.read_csv(\"/Users/ganderson/Dropbox/Developer/nyc16_ids1/data/lendingClub/LoanStats_2016Q1.csv\")"
   ]
  },
  {
   "cell_type": "code",
   "execution_count": 87,
   "metadata": {
    "collapsed": false
   },
   "outputs": [],
   "source": [
    "# Combining data and inspecting it\n",
    "tempFrame = pd.concat([loanData1,loanData2,loanData3,loanData4,loanData5], ignore_index=True)\n",
    "# tempFrame.head(10) # Making sure concat worked\n",
    "# tempFrame.shape # Looks correct\n",
    "# tempFrame.dtypes # Need to clean up things like % inside int_rate and some other variables for data processing and drop off a ton of stuff."
   ]
  },
  {
   "cell_type": "code",
   "execution_count": 88,
   "metadata": {
    "collapsed": false
   },
   "outputs": [],
   "source": [
    "# Dropping off features that aren't a pre-populated list\n",
    "# Tried using np.logical to exclude a list of features based on the ones I wanted. Try troubleshooting later.\n",
    "# scrubbedTempFrame = tempFrame.drop(np.logical_not(tempFrame[['int_rate','purpose','funded_amnt','verification_status','dti','earliest_cr_line','open_acc',\n",
    "#                                                     'total_acc','revol_bal','revol_util','inq_last_6mths','mths_since_last_delinq','mths_since_last_record',\n",
    "#                                                     'home_ownership','emp_length','addr_state','pub_rec','delinq_2yrs','term','loan_status','annual_inc',\n",
    "#                                                     'collections_12_mths_ex_med','mths_since_last_major_derog','application_type','acc_now_delinq',\n",
    "#                                                     'tot_cur_bal','out_prncp','total_pymnt','inq_last_12m','avg_cur_bal','mths_since_recent_bc_dlq',\n",
    "#                                                     'mths_since_recent_inq','mths_since_recent_revol_delinq','num_accts_ever_120_pd','num_op_rev_tl',\n",
    "#                                                     'num_rev_accts','num_rev_tl_bal_gt_0','num_sats','num_tl_120dpd_2m','num_tl_30dpd','num_tl_90g_dpd_24m',\n",
    "#                                                     'num_tl_op_past_12m','pct_tl_nvr_dlq','percent_bc_gt_75','pub_rec_bankruptcies','tax_liens','tot_hi_cred_lim',\n",
    "#                                                     'total_bal_ex_mort','total_bc_limit','total_il_high_credit_limit']], axis=1, inplace=True))\n",
    "tempFrame.drop(tempFrame[['id','member_id','loan_amnt','funded_amnt_inv','installment','emp_title','issue_d',\n",
    "                                     'pymnt_plan','url','desc','title','zip_code','initial_list_status','out_prncp_inv','total_pymnt_inv','total_rec_prncp',\n",
    "                                     'total_rec_int','total_rec_late_fee','recoveries','collection_recovery_fee','last_pymnt_d','tot_coll_amt',\n",
    "                                     'last_pymnt_amnt','next_pymnt_d','last_credit_pull_d','policy_code','annual_inc_joint','dti_joint',\n",
    "                                     'verification_status_joint','open_acc_6m','open_il_6m','open_il_12m','open_il_24m','mths_since_rcnt_il',\n",
    "                                     'total_bal_il','il_util','open_rv_12m','open_rv_24m','max_bal_bc','all_util','total_rev_hi_lim','inq_fi',\n",
    "                                     'total_cu_tl','acc_open_past_24mths','bc_open_to_buy','bc_util','chargeoff_within_12_mths','delinq_amnt',\n",
    "                                     'mo_sin_old_il_acct','mo_sin_old_rev_tl_op','mo_sin_rcnt_rev_tl_op','mo_sin_rcnt_tl','mort_acc',\n",
    "                                     'mths_since_recent_bc','mths_since_recent_bc_dlq','num_actv_bc_tl','num_actv_rev_tl','num_bc_sats',\n",
    "                                     'num_bc_tl','num_il_tl','acc_now_delinq','earliest_cr_line','sub_grade','application_type']], axis=1, inplace=True)"
   ]
  },
  {
   "cell_type": "code",
   "execution_count": 89,
   "metadata": {
    "collapsed": false
   },
   "outputs": [
    {
     "data": {
      "text/plain": [
       "funded_amnt                         int64\n",
       "term                               object\n",
       "int_rate                           object\n",
       "grade                              object\n",
       "emp_length                         object\n",
       "home_ownership                     object\n",
       "annual_inc                        float64\n",
       "verification_status                object\n",
       "loan_status                        object\n",
       "purpose                            object\n",
       "addr_state                         object\n",
       "dti                               float64\n",
       "delinq_2yrs                         int64\n",
       "inq_last_6mths                    float64\n",
       "mths_since_last_delinq            float64\n",
       "mths_since_last_record            float64\n",
       "open_acc                            int64\n",
       "pub_rec                             int64\n",
       "revol_bal                           int64\n",
       "revol_util                         object\n",
       "total_acc                           int64\n",
       "out_prncp                         float64\n",
       "total_pymnt                       float64\n",
       "collections_12_mths_ex_med        float64\n",
       "mths_since_last_major_derog       float64\n",
       "tot_cur_bal                       float64\n",
       "inq_last_12m                      float64\n",
       "avg_cur_bal                       float64\n",
       "mths_since_recent_inq             float64\n",
       "mths_since_recent_revol_delinq    float64\n",
       "num_accts_ever_120_pd             float64\n",
       "num_op_rev_tl                     float64\n",
       "num_rev_accts                     float64\n",
       "num_rev_tl_bal_gt_0               float64\n",
       "num_sats                          float64\n",
       "num_tl_120dpd_2m                  float64\n",
       "num_tl_30dpd                      float64\n",
       "num_tl_90g_dpd_24m                float64\n",
       "num_tl_op_past_12m                float64\n",
       "pct_tl_nvr_dlq                    float64\n",
       "percent_bc_gt_75                  float64\n",
       "pub_rec_bankruptcies              float64\n",
       "tax_liens                         float64\n",
       "tot_hi_cred_lim                   float64\n",
       "total_bal_ex_mort                 float64\n",
       "total_bc_limit                    float64\n",
       "total_il_high_credit_limit        float64\n",
       "dtype: object"
      ]
     },
     "execution_count": 89,
     "metadata": {},
     "output_type": "execute_result"
    }
   ],
   "source": [
    "tempFrame.dtypes"
   ]
  },
  {
   "cell_type": "code",
   "execution_count": 86,
   "metadata": {
    "collapsed": false
   },
   "outputs": [
    {
     "name": "stdout",
     "output_type": "stream",
     "text": [
      "int64\n",
      "[1]\n"
     ]
    },
    {
     "ename": "AttributeError",
     "evalue": "Can only use .str accessor with string values, which use np.object_ dtype in pandas",
     "output_type": "error",
     "traceback": [
      "\u001b[0;31m---------------------------------------------------------------------------\u001b[0m",
      "\u001b[0;31mAttributeError\u001b[0m                            Traceback (most recent call last)",
      "\u001b[0;32m<ipython-input-86-b44c541e7b22>\u001b[0m in \u001b[0;36m<module>\u001b[0;34m()\u001b[0m\n\u001b[1;32m      5\u001b[0m \u001b[0;34m\u001b[0m\u001b[0m\n\u001b[1;32m      6\u001b[0m \u001b[0;31m# Convert int_rate into float and cut '%'\u001b[0m\u001b[0;34m\u001b[0m\u001b[0;34m\u001b[0m\u001b[0m\n\u001b[0;32m----> 7\u001b[0;31m \u001b[0mtempFrame\u001b[0m\u001b[0;34m[\u001b[0m\u001b[0;34m'int_rate'\u001b[0m\u001b[0;34m]\u001b[0m \u001b[0;34m=\u001b[0m \u001b[0mtempFrame\u001b[0m\u001b[0;34m[\u001b[0m\u001b[0;34m'int_rate'\u001b[0m\u001b[0;34m]\u001b[0m\u001b[0;34m.\u001b[0m\u001b[0mstr\u001b[0m\u001b[0;34m.\u001b[0m\u001b[0mreplace\u001b[0m\u001b[0;34m(\u001b[0m\u001b[0;34m'%'\u001b[0m\u001b[0;34m,\u001b[0m \u001b[0;34m''\u001b[0m\u001b[0;34m)\u001b[0m\u001b[0;34m\u001b[0m\u001b[0m\n\u001b[0m\u001b[1;32m      8\u001b[0m \u001b[0mtempFrame\u001b[0m\u001b[0;34m[\u001b[0m\u001b[0;34m'int_rate'\u001b[0m\u001b[0;34m]\u001b[0m \u001b[0;34m=\u001b[0m \u001b[0mtempFrame\u001b[0m\u001b[0;34m[\u001b[0m\u001b[0;34m'int_rate'\u001b[0m\u001b[0;34m]\u001b[0m\u001b[0;34m.\u001b[0m\u001b[0mastype\u001b[0m\u001b[0;34m(\u001b[0m\u001b[0mfloat\u001b[0m\u001b[0;34m)\u001b[0m\u001b[0;34m\u001b[0m\u001b[0m\n\u001b[1;32m      9\u001b[0m \u001b[0;32mprint\u001b[0m \u001b[0mtempFrame\u001b[0m\u001b[0;34m.\u001b[0m\u001b[0mdtypes\u001b[0m\u001b[0;34m.\u001b[0m\u001b[0mint_rate\u001b[0m \u001b[0;31m# confirming this worked\u001b[0m\u001b[0;34m\u001b[0m\u001b[0m\n",
      "\u001b[0;32m/Users/ganderson/anaconda/lib/python2.7/site-packages/pandas/core/generic.pyc\u001b[0m in \u001b[0;36m__getattr__\u001b[0;34m(self, name)\u001b[0m\n\u001b[1;32m   2663\u001b[0m         if (name in self._internal_names_set or name in self._metadata or\n\u001b[1;32m   2664\u001b[0m                 name in self._accessors):\n\u001b[0;32m-> 2665\u001b[0;31m             \u001b[0;32mreturn\u001b[0m \u001b[0mobject\u001b[0m\u001b[0;34m.\u001b[0m\u001b[0m__getattribute__\u001b[0m\u001b[0;34m(\u001b[0m\u001b[0mself\u001b[0m\u001b[0;34m,\u001b[0m \u001b[0mname\u001b[0m\u001b[0;34m)\u001b[0m\u001b[0;34m\u001b[0m\u001b[0m\n\u001b[0m\u001b[1;32m   2666\u001b[0m         \u001b[0;32melse\u001b[0m\u001b[0;34m:\u001b[0m\u001b[0;34m\u001b[0m\u001b[0m\n\u001b[1;32m   2667\u001b[0m             \u001b[0;32mif\u001b[0m \u001b[0mname\u001b[0m \u001b[0;32min\u001b[0m \u001b[0mself\u001b[0m\u001b[0;34m.\u001b[0m\u001b[0m_info_axis\u001b[0m\u001b[0;34m:\u001b[0m\u001b[0;34m\u001b[0m\u001b[0m\n",
      "\u001b[0;32m/Users/ganderson/anaconda/lib/python2.7/site-packages/pandas/core/base.pyc\u001b[0m in \u001b[0;36m__get__\u001b[0;34m(self, instance, owner)\u001b[0m\n\u001b[1;32m    231\u001b[0m             \u001b[0;31m# this ensures that Series.str.<method> is well defined\u001b[0m\u001b[0;34m\u001b[0m\u001b[0;34m\u001b[0m\u001b[0m\n\u001b[1;32m    232\u001b[0m             \u001b[0;32mreturn\u001b[0m \u001b[0mself\u001b[0m\u001b[0;34m.\u001b[0m\u001b[0maccessor_cls\u001b[0m\u001b[0;34m\u001b[0m\u001b[0m\n\u001b[0;32m--> 233\u001b[0;31m         \u001b[0;32mreturn\u001b[0m \u001b[0mself\u001b[0m\u001b[0;34m.\u001b[0m\u001b[0mconstruct_accessor\u001b[0m\u001b[0;34m(\u001b[0m\u001b[0minstance\u001b[0m\u001b[0;34m)\u001b[0m\u001b[0;34m\u001b[0m\u001b[0m\n\u001b[0m\u001b[1;32m    234\u001b[0m \u001b[0;34m\u001b[0m\u001b[0m\n\u001b[1;32m    235\u001b[0m     \u001b[0;32mdef\u001b[0m \u001b[0m__set__\u001b[0m\u001b[0;34m(\u001b[0m\u001b[0mself\u001b[0m\u001b[0;34m,\u001b[0m \u001b[0minstance\u001b[0m\u001b[0;34m,\u001b[0m \u001b[0mvalue\u001b[0m\u001b[0;34m)\u001b[0m\u001b[0;34m:\u001b[0m\u001b[0;34m\u001b[0m\u001b[0m\n",
      "\u001b[0;32m/Users/ganderson/anaconda/lib/python2.7/site-packages/pandas/core/strings.pyc\u001b[0m in \u001b[0;36m_make_str_accessor\u001b[0;34m(self)\u001b[0m\n\u001b[1;32m   1803\u001b[0m             \u001b[0;31m# (instead of test for object dtype), but that isn't practical for\u001b[0m\u001b[0;34m\u001b[0m\u001b[0;34m\u001b[0m\u001b[0m\n\u001b[1;32m   1804\u001b[0m             \u001b[0;31m# performance reasons until we have a str dtype (GH 9343)\u001b[0m\u001b[0;34m\u001b[0m\u001b[0;34m\u001b[0m\u001b[0m\n\u001b[0;32m-> 1805\u001b[0;31m             raise AttributeError(\"Can only use .str accessor with string \"\n\u001b[0m\u001b[1;32m   1806\u001b[0m                                  \u001b[0;34m\"values, which use np.object_ dtype in \"\u001b[0m\u001b[0;34m\u001b[0m\u001b[0m\n\u001b[1;32m   1807\u001b[0m                                  \"pandas\")\n",
      "\u001b[0;31mAttributeError\u001b[0m: Can only use .str accessor with string values, which use np.object_ dtype in pandas"
     ]
    }
   ],
   "source": [
    "# Binarize term\n",
    "tempFrame['term'] = [0 if x == \" 36 months\" else 1 for x in tempFrame['term']]\n",
    "print tempFrame.dtypes.term # confirming this is now an int\n",
    "print tempFrame.term.unique() # confirming this worked\n",
    "\n",
    "# Convert int_rate into float and cut '%'\n",
    "tempFrame['int_rate'] = tempFrame['int_rate'].str.replace('%', '')\n",
    "tempFrame['int_rate'] = tempFrame['int_rate'].astype(float)\n",
    "print tempFrame.dtypes.int_rate # confirming this worked\n",
    "\n",
    "# OneHotEncoder grade\n",
    "\n",
    "# Convert emp_length into int and cut '+' and 'years'\n",
    "tempFrame['emp_length'] = tempFrame.str.replace('+ years','')\n",
    "tempFrame['emp_length'] = tempFrame.str.replace('years','')\n",
    "tempFrame['emp_length'] = tempFrame['emp_length'].astype(int)\n",
    "print tempFrame.dtypes.emp_length\n",
    "\n",
    "# OneHotEncoder home_ownership\n",
    "\n",
    "# Convert revol_util to int and cut '%'\n",
    "# OneHotEncoder verification_status\n",
    "# loan status - THE THING I WANT TO PREDICT. Categorize using dummies?\n",
    "# OneHotEncoder purpose\n",
    "# OneHotEncoder addr_state"
   ]
  },
  {
   "cell_type": "code",
   "execution_count": null,
   "metadata": {
    "collapsed": true
   },
   "outputs": [],
   "source": []
  }
 ],
 "metadata": {
  "kernelspec": {
   "display_name": "Python 2",
   "language": "python",
   "name": "python2"
  },
  "language_info": {
   "codemirror_mode": {
    "name": "ipython",
    "version": 2
   },
   "file_extension": ".py",
   "mimetype": "text/x-python",
   "name": "python",
   "nbconvert_exporter": "python",
   "pygments_lexer": "ipython2",
   "version": "2.7.11"
  }
 },
 "nbformat": 4,
 "nbformat_minor": 0
}
